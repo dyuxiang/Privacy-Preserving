{
 "cells": [
  {
   "cell_type": "code",
   "execution_count": 27,
   "metadata": {},
   "outputs": [],
   "source": [
    "import pandas as pd\n",
    "import numpy as np\n",
    "import matplotlib.pyplot as plt\n",
    "\n",
    "from sklearn.preprocessing import StandardScaler, LabelEncoder\n",
    "from sklearn.metrics import confusion_matrix, accuracy_score, precision_score, recall_score, f1_score, roc_curve, roc_auc_score\n",
    "\n",
    "from tensorflow.keras.models import Sequential\n",
    "from tensorflow.keras.layers import Dense"
   ]
  },
  {
   "cell_type": "code",
   "execution_count": 28,
   "metadata": {},
   "outputs": [],
   "source": [
    "train_source = 'dataset/adult_preprocessed.csv'\n",
    "\n",
    "test_source = 'dataset/adult_test_preprocessed.csv'\n"
   ]
  },
  {
   "cell_type": "code",
   "execution_count": 29,
   "metadata": {},
   "outputs": [],
   "source": [
    "train_data = pd.read_csv(train_source, sep=r'\\s*,\\s*', engine='python')\n",
    "test_data = pd.read_csv(test_source, sep=r'\\s*,\\s*', engine='python')\n"
   ]
  },
  {
   "cell_type": "code",
   "execution_count": 30,
   "metadata": {},
   "outputs": [
    {
     "name": "stdout",
     "output_type": "stream",
     "text": [
      "Empty DataFrame\n",
      "Columns: [age, workclass, education, education-num, marital-status, occupation, relationship, race, sex, capital-gain, capital-loss, hours-per-week, native-country, income]\n",
      "Index: []\n"
     ]
    }
   ],
   "source": [
    "# Classify attributes into numbers and strings\n",
    "def category_attribute(dataset, list, num_list, str_list): \n",
    "    for attribute in list:\n",
    "        #print(feature, type(dataset[feature][1]))\n",
    "        if type(dataset[attribute][1]) == str:\n",
    "            str_list.append(attribute)\n",
    "        else:\n",
    "            num_list.append(attribute)\n",
    "    return num_list, str_list\n",
    "\n",
    "numerical_attribute_list = []\n",
    "str_attribute_list = []\n",
    "\n",
    "attribute_list = pd.read_csv(train_source, nrows=0)\n",
    "print(attribute_list)\n",
    "numerical_attribute_list, str_attribute_list = category_attribute(train_data, attribute_list, numerical_attribute_list, str_attribute_list)"
   ]
  },
  {
   "cell_type": "code",
   "execution_count": 31,
   "metadata": {},
   "outputs": [],
   "source": [
    "# train_data normalization\n",
    "le=LabelEncoder()\n",
    "for i in str_attribute_list:\n",
    "    train_data[i]=le.fit_transform(train_data[i])\n",
    "#print(train_data)\n",
    "\n",
    "# test_data normalization\n",
    "le=LabelEncoder()\n",
    "for i in str_attribute_list:\n",
    "    test_data[i]=le.fit_transform(test_data[i])\n",
    "#print(train_data)"
   ]
  },
  {
   "cell_type": "code",
   "execution_count": 32,
   "metadata": {},
   "outputs": [],
   "source": [
    "# split data & label (train)\n",
    "x_train = train_data.iloc[:,0:13]\n",
    "y_train = train_data.iloc[:,13]\n",
    "# split data & label (test)\n",
    "x_test = test_data.iloc[:,0:13]\n",
    "y_test = test_data.iloc[:,13]"
   ]
  },
  {
   "cell_type": "code",
   "execution_count": 33,
   "metadata": {},
   "outputs": [
    {
     "data": {
      "text/plain": [
       "array([[-1.02900513, -0.222347  , -2.42343884, ..., -0.2191694 ,\n",
       "        -0.07888904,  0.26058067],\n",
       "       [-0.05742253, -0.222347  ,  0.19017232, ..., -0.2191694 ,\n",
       "         0.75013125,  0.26058067],\n",
       "       [-0.80479376, -1.25712632, -0.85527215, ..., -0.2191694 ,\n",
       "        -0.07888904,  0.26058067],\n",
       "       ...,\n",
       "       [-0.05742253, -0.222347  , -0.33254991, ..., -0.2191694 ,\n",
       "         0.75013125,  0.26058067],\n",
       "       [ 0.39100021, -0.222347  , -0.33254991, ..., -0.2191694 ,\n",
       "        -0.07888904,  0.26058067],\n",
       "       [-0.2816339 ,  0.81243231, -0.33254991, ..., -0.2191694 ,\n",
       "         1.57915155,  0.26058067]])"
      ]
     },
     "execution_count": 33,
     "metadata": {},
     "output_type": "execute_result"
    }
   ],
   "source": [
    "#standardizing the input feature\n",
    "sc = StandardScaler()\n",
    "x_train = sc.fit_transform(x_train)\n",
    "x_train\n",
    "x_test = sc.fit_transform(x_test)\n",
    "x_test"
   ]
  },
  {
   "cell_type": "code",
   "execution_count": 34,
   "metadata": {},
   "outputs": [],
   "source": [
    "# define the keras model\n",
    "mlp = Sequential()\n",
    "mlp.add(Dense(16, input_shape=(13,), activation='relu'))\n",
    "mlp.add(Dense(12, activation='relu'))\n",
    "mlp.add(Dense(8, activation='relu'))\n",
    "mlp.add(Dense(1, activation='sigmoid'))"
   ]
  },
  {
   "cell_type": "code",
   "execution_count": 35,
   "metadata": {},
   "outputs": [],
   "source": [
    "# compile the keras model\n",
    "mlp.compile(loss='binary_crossentropy', optimizer='adam', metrics=['accuracy'])"
   ]
  },
  {
   "cell_type": "code",
   "execution_count": 36,
   "metadata": {},
   "outputs": [
    {
     "name": "stdout",
     "output_type": "stream",
     "text": [
      "Epoch 1/50\n"
     ]
    },
    {
     "name": "stdout",
     "output_type": "stream",
     "text": [
      "3017/3017 [==============================] - 2s 691us/step - loss: 0.3765 - accuracy: 0.8269\n",
      "Epoch 2/50\n",
      "3017/3017 [==============================] - 2s 695us/step - loss: 0.3386 - accuracy: 0.8394\n",
      "Epoch 3/50\n",
      "3017/3017 [==============================] - 2s 682us/step - loss: 0.3344 - accuracy: 0.8422\n",
      "Epoch 4/50\n",
      "3017/3017 [==============================] - 2s 668us/step - loss: 0.3318 - accuracy: 0.8425\n",
      "Epoch 5/50\n",
      "3017/3017 [==============================] - 2s 656us/step - loss: 0.3299 - accuracy: 0.8428\n",
      "Epoch 6/50\n",
      "3017/3017 [==============================] - 2s 669us/step - loss: 0.3276 - accuracy: 0.8453\n",
      "Epoch 7/50\n",
      "3017/3017 [==============================] - 2s 690us/step - loss: 0.3270 - accuracy: 0.8451\n",
      "Epoch 8/50\n",
      "3017/3017 [==============================] - 2s 794us/step - loss: 0.3256 - accuracy: 0.8465\n",
      "Epoch 9/50\n",
      "3017/3017 [==============================] - 2s 660us/step - loss: 0.3252 - accuracy: 0.8469\n",
      "Epoch 10/50\n",
      "3017/3017 [==============================] - 2s 688us/step - loss: 0.3248 - accuracy: 0.8458\n",
      "Epoch 11/50\n",
      "3017/3017 [==============================] - 2s 739us/step - loss: 0.3235 - accuracy: 0.8471\n",
      "Epoch 12/50\n",
      "3017/3017 [==============================] - 2s 676us/step - loss: 0.3228 - accuracy: 0.8467\n",
      "Epoch 13/50\n",
      "3017/3017 [==============================] - 2s 661us/step - loss: 0.3228 - accuracy: 0.8483\n",
      "Epoch 14/50\n",
      "3017/3017 [==============================] - 2s 691us/step - loss: 0.3221 - accuracy: 0.8467\n",
      "Epoch 15/50\n",
      "3017/3017 [==============================] - 2s 663us/step - loss: 0.3220 - accuracy: 0.8478\n",
      "Epoch 16/50\n",
      "3017/3017 [==============================] - 2s 711us/step - loss: 0.3216 - accuracy: 0.8470\n",
      "Epoch 17/50\n",
      "3017/3017 [==============================] - 2s 679us/step - loss: 0.3210 - accuracy: 0.8483\n",
      "Epoch 18/50\n",
      "3017/3017 [==============================] - 2s 679us/step - loss: 0.3205 - accuracy: 0.8474\n",
      "Epoch 19/50\n",
      "3017/3017 [==============================] - 2s 695us/step - loss: 0.3200 - accuracy: 0.8482\n",
      "Epoch 20/50\n",
      "3017/3017 [==============================] - 2s 711us/step - loss: 0.3195 - accuracy: 0.8478\n",
      "Epoch 21/50\n",
      "3017/3017 [==============================] - 2s 701us/step - loss: 0.3191 - accuracy: 0.8482\n",
      "Epoch 22/50\n",
      "3017/3017 [==============================] - 2s 665us/step - loss: 0.3186 - accuracy: 0.8478\n",
      "Epoch 23/50\n",
      "3017/3017 [==============================] - 2s 640us/step - loss: 0.3182 - accuracy: 0.8497\n",
      "Epoch 24/50\n",
      "3017/3017 [==============================] - 2s 636us/step - loss: 0.3179 - accuracy: 0.8492\n",
      "Epoch 25/50\n",
      "3017/3017 [==============================] - 2s 682us/step - loss: 0.3175 - accuracy: 0.8490\n",
      "Epoch 26/50\n",
      "3017/3017 [==============================] - 2s 692us/step - loss: 0.3172 - accuracy: 0.8488\n",
      "Epoch 27/50\n",
      "3017/3017 [==============================] - 2s 710us/step - loss: 0.3168 - accuracy: 0.8488\n",
      "Epoch 28/50\n",
      "3017/3017 [==============================] - 2s 710us/step - loss: 0.3164 - accuracy: 0.8502\n",
      "Epoch 29/50\n",
      "3017/3017 [==============================] - 2s 696us/step - loss: 0.3165 - accuracy: 0.8498\n",
      "Epoch 30/50\n",
      "3017/3017 [==============================] - 2s 693us/step - loss: 0.3160 - accuracy: 0.8497\n",
      "Epoch 31/50\n",
      "3017/3017 [==============================] - 2s 689us/step - loss: 0.3158 - accuracy: 0.8504\n",
      "Epoch 32/50\n",
      "3017/3017 [==============================] - 2s 767us/step - loss: 0.3155 - accuracy: 0.8499\n",
      "Epoch 33/50\n",
      "3017/3017 [==============================] - 2s 781us/step - loss: 0.3152 - accuracy: 0.8500\n",
      "Epoch 34/50\n",
      "3017/3017 [==============================] - 2s 686us/step - loss: 0.3148 - accuracy: 0.8507\n",
      "Epoch 35/50\n",
      "3017/3017 [==============================] - 2s 661us/step - loss: 0.3148 - accuracy: 0.8515\n",
      "Epoch 36/50\n",
      "3017/3017 [==============================] - 2s 662us/step - loss: 0.3148 - accuracy: 0.8504\n",
      "Epoch 37/50\n",
      "3017/3017 [==============================] - 2s 666us/step - loss: 0.3146 - accuracy: 0.8504\n",
      "Epoch 38/50\n",
      "3017/3017 [==============================] - 2s 674us/step - loss: 0.3141 - accuracy: 0.8496\n",
      "Epoch 39/50\n",
      "3017/3017 [==============================] - 2s 657us/step - loss: 0.3143 - accuracy: 0.8514\n",
      "Epoch 40/50\n",
      "3017/3017 [==============================] - 2s 657us/step - loss: 0.3136 - accuracy: 0.8516\n",
      "Epoch 41/50\n",
      "3017/3017 [==============================] - 2s 781us/step - loss: 0.3136 - accuracy: 0.8500\n",
      "Epoch 42/50\n",
      "3017/3017 [==============================] - 2s 677us/step - loss: 0.3137 - accuracy: 0.8506\n",
      "Epoch 43/50\n",
      "3017/3017 [==============================] - 2s 666us/step - loss: 0.3135 - accuracy: 0.8503\n",
      "Epoch 44/50\n",
      "3017/3017 [==============================] - 2s 787us/step - loss: 0.3129 - accuracy: 0.8511\n",
      "Epoch 45/50\n",
      "3017/3017 [==============================] - 2s 786us/step - loss: 0.3130 - accuracy: 0.8523\n",
      "Epoch 46/50\n",
      "3017/3017 [==============================] - 2s 793us/step - loss: 0.3122 - accuracy: 0.8524\n",
      "Epoch 47/50\n",
      "3017/3017 [==============================] - 2s 703us/step - loss: 0.3119 - accuracy: 0.8521\n",
      "Epoch 48/50\n",
      "3017/3017 [==============================] - 2s 661us/step - loss: 0.3127 - accuracy: 0.8517\n",
      "Epoch 49/50\n",
      "3017/3017 [==============================] - 2s 657us/step - loss: 0.3123 - accuracy: 0.8522\n",
      "Epoch 50/50\n",
      "3017/3017 [==============================] - 2s 704us/step - loss: 0.3114 - accuracy: 0.8523\n"
     ]
    },
    {
     "data": {
      "text/plain": [
       "<keras.src.callbacks.History at 0x1d32d9d75e0>"
      ]
     },
     "execution_count": 36,
     "metadata": {},
     "output_type": "execute_result"
    }
   ],
   "source": [
    "# fit the keras model on the dataset\n",
    "mlp.fit(x_train,y_train, batch_size=10, epochs=50)"
   ]
  },
  {
   "cell_type": "code",
   "execution_count": 43,
   "metadata": {},
   "outputs": [
    {
     "name": "stdout",
     "output_type": "stream",
     "text": [
      "471/471 [==============================] - 0s 467us/step\n",
      "[[0.00093084]\n",
      " [0.4528739 ]\n",
      " [0.38796607]\n",
      " ...\n",
      " [0.7286344 ]\n",
      " [0.06004985]\n",
      " [0.785199  ]]\n"
     ]
    },
    {
     "data": {
      "text/plain": [
       "array([[False],\n",
       "       [False],\n",
       "       [False],\n",
       "       ...,\n",
       "       [ True],\n",
       "       [False],\n",
       "       [ True]])"
      ]
     },
     "execution_count": 43,
     "metadata": {},
     "output_type": "execute_result"
    }
   ],
   "source": [
    "#mlp.predict(x_test)\n",
    "y_pred=mlp.predict(x_test)\n",
    "print(y_pred)\n",
    "y_pred_new =(y_pred>0.5)\n",
    "y_pred_new"
   ]
  },
  {
   "cell_type": "code",
   "execution_count": 38,
   "metadata": {},
   "outputs": [
    {
     "name": "stdout",
     "output_type": "stream",
     "text": [
      "[[10410   950]\n",
      " [ 1377  2323]]\n"
     ]
    }
   ],
   "source": [
    "cm = confusion_matrix(y_test, y_pred_new)\n",
    "print(cm)"
   ]
  },
  {
   "cell_type": "code",
   "execution_count": 39,
   "metadata": {},
   "outputs": [
    {
     "name": "stdout",
     "output_type": "stream",
     "text": [
      "Accurancy: 0.845\n",
      "Precision: 0.710\n",
      "   Recall: 0.628\n",
      " F1-score: 0.666\n",
      "      AUC: 0.901\n"
     ]
    }
   ],
   "source": [
    "# Accuracy: (TP + TN) / (TP + TN + FP + FN)\n",
    "accuracy = accuracy_score(y_test, y_pred_new)\n",
    "\n",
    "# Precision: TP / (TP + FP)\n",
    "precision = precision_score(y_test, y_pred_new)\n",
    "\n",
    "# Recall: TP / (TP + FN)\n",
    "recall = recall_score(y_test, y_pred_new)\n",
    "\n",
    "# F1-score: (2 * Precision * Recall) / (Precision + Recall))\n",
    "f1_score = f1_score(y_test, y_pred_new)\n",
    "\n",
    "# AUC 需要原始的預測概率(y_pred)而不是二元的預測結果(y_pred_new)\n",
    "# 假設 y_pred 是模型預測的概率值\n",
    "auc = roc_auc_score(y_test, y_pred)\n",
    "\n",
    "def res_print():\n",
    "    Item = ['Accurancy', 'Precision', 'Recall', 'F1-score', 'AUC']\n",
    "    Value = [accuracy, precision, recall, f1_score, auc]\n",
    "    for i in range(len(Item)):\n",
    "        print((Item[i] + ':').rjust(10), \"%.3f\" % Value[i])\n",
    "res_print()"
   ]
  },
  {
   "cell_type": "code",
   "execution_count": 40,
   "metadata": {},
   "outputs": [
    {
     "data": {
      "image/png": "[encoded data removed]",
      "text/plain": [
       "<Figure size 640x480 with 1 Axes>"
      ]
     },
     "metadata": {},
     "output_type": "display_data"
    }
   ],
   "source": [
    "# AUC 需要原始的預測概率(y_pred)而不是二元的預測結果(y_pred_new)\n",
    "# 假設 y_pred 是模型預測的概率值\n",
    "fpr, tpr, thresholds = roc_curve(y_test, y_pred)\n",
    "# 繪製 ROC 曲線\n",
    "def plot_roc_curve(fpr, tpr): \n",
    "    plt.plot(fpr, tpr, color='darkorange', linewidth=2, label='ROC curve (area = %0.2f)' % auc) \n",
    "    plt.plot([0, 1], [0, 1], 'k--') \n",
    "    plt.axis([0, 1, 0, 1])\n",
    "    plt.xlabel('False Positive Rate or (1 - Specifity)')\n",
    "    plt.ylabel('True Positive Rate or (Sensitivity)')\n",
    "    plt.title('Receiver Operating Characteristic (ROC) Curve')\n",
    "    plt.legend(loc=\"lower right\")\n",
    "\n",
    "plot_roc_curve(fpr, tpr)\n",
    "plt.show()"
   ]
  },
  {
   "cell_type": "code",
   "execution_count": 41,
   "metadata": {},
   "outputs": [],
   "source": [
    "source_list_num = ['5', '10', '50', '200', '500', '1000']\n",
    "source_list_mode = ['mean', 'median', 'mode']\n",
    "category = ''\n",
    "\n",
    "for k in source_list_num:\n",
    "    for m in source_list_mode:\n",
    "        train_source = 'dataset/k_anonymity/adult_k-anonymity_'+ k +'_'+ m +'.csv'\n",
    "\n",
    "        output_file = 'dataset/evalution.csv'\n",
    "        \n",
    "        category = category + ('k = ' + k).ljust(10) + '\\n' + 'Generalization_mode : ' + m\n",
    "\n",
    "        \n",
    "\n",
    "        def res_print(category):\n",
    "            Item = ['Accurancy', 'Precision', 'Recall', 'F1-score', 'AUC']\n",
    "            Value = [accuracy, precision, recall, f1_score, auc]\n",
    "            for i in range(len(Item)):\n",
    "                category = category + '\\n' + (Item[i] + ':').rjust(10) + str(\"%.3f\" % Value[i])\n",
    "            #print(category)\n",
    "            category = category + '\\n'\n",
    "            return category\n",
    "        category = res_print(category)\n",
    "\n",
    "# Write as new CSV file \n",
    "    with open(output_file, 'w') as file:\n",
    "        file.write(category)"
   ]
  },
  {
   "cell_type": "code",
   "execution_count": null,
   "metadata": {},
   "outputs": [],
   "source": []
  }
 ],
 "metadata": {
  "kernelspec": {
   "display_name": "Python 3",
   "language": "python",
   "name": "python3"
  },
  "language_info": {
   "codemirror_mode": {
    "name": "ipython",
    "version": 3
   },
   "file_extension": ".py",
   "mimetype": "text/x-python",
   "name": "python",
   "nbconvert_exporter": "python",
   "pygments_lexer": "ipython3",
   "version": "3.10.11"
  }
 },
 "nbformat": 4,
 "nbformat_minor": 2
}
